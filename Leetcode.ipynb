{
  "nbformat": 4,
  "nbformat_minor": 0,
  "metadata": {
    "colab": {
      "name": "Leetcode.ipynb",
      "provenance": [],
      "collapsed_sections": [],
      "include_colab_link": true
    },
    "kernelspec": {
      "name": "python3",
      "display_name": "Python 3"
    }
  },
  "cells": [
    {
      "cell_type": "markdown",
      "metadata": {
        "id": "view-in-github",
        "colab_type": "text"
      },
      "source": [
        "<a href=\"https://colab.research.google.com/github/3dvg/pythonExercises/blob/master/Leetcode.ipynb\" target=\"_parent\"><img src=\"https://colab.research.google.com/assets/colab-badge.svg\" alt=\"Open In Colab\"/></a>"
      ]
    },
    {
      "cell_type": "markdown",
      "metadata": {
        "id": "ziTCl782CXpz",
        "colab_type": "text"
      },
      "source": [
        "# 2. Add Two Numbers\n",
        "You are given two non-empty linked lists representing two non-negative integers. The digits are stored in reverse order and each of their nodes contain a single digit. Add the two numbers and return it as a linked list.\n",
        "\n",
        "You may assume the two numbers do not contain any leading zero, except the number 0 itself.\n",
        "\n",
        "**Example:**\n",
        "```\n",
        "Input: (2 -> 4 -> 3) + (5 -> 6 -> 4)\n",
        "Output: 7 -> 0 -> 8\n",
        "Explanation: 342 + 465 = 807.\n",
        "```\n",
        "\n"
      ]
    },
    {
      "cell_type": "code",
      "metadata": {
        "id": "yfIVwI9NCSEe",
        "colab_type": "code",
        "colab": {}
      },
      "source": [
        "class Solution:\n",
        "  def addTwoNumbers(self, l1, l2):\n",
        "    carry = 0\n",
        "\n",
        "    ret = curr = ListNode(0)\n",
        "\n",
        "    while l1 or l2 or carry:\n",
        "      v1 = v2 = 0\n",
        "      if l1:\n",
        "        v1=l1.val\n",
        "        l1=l1.next\n",
        "      if l2:\n",
        "        v2=l2.val\n",
        "        l2=l2.next\n",
        "\n",
        "      total = v1+v2+carry\n",
        "      carry = total//10\n",
        "      val = total % 10\n",
        "      curr.next = ListNode(val)\n",
        "      curr = curr.next\n",
        "    \n",
        "    return ret.next\n",
        "\n",
        "    \n",
        "class ListNode:\n",
        "  def __init__(self, data):\n",
        "    self.val = data\n",
        "    self.next = None\n",
        "\n",
        "l1 = ListNode(2)\n",
        "l1.next = ListNode(4)\n",
        "l1.next.next = ListNode(3)\n",
        "\n",
        "l2 = ListNode(5)\n",
        "l2.next = ListNode(6)\n",
        "l2.next.next = ListNode(3)\n",
        "\n",
        "print(Solution().addTwoNumbers(l1,l2))"
      ],
      "execution_count": 0,
      "outputs": []
    },
    {
      "cell_type": "markdown",
      "metadata": {
        "id": "gjFag5yXlZbM",
        "colab_type": "text"
      },
      "source": [
        "# 3. Longest Substring Without Repeating Characters\n",
        "Given a string, find the length of the longest substring without repeating characters.\n",
        "\n",
        "**Example 1:**\n",
        "```\n",
        "Input: \"abcabcbb\"\n",
        "Output: 3 \n",
        "Explanation: The answer is \"abc\", with the length of 3.\n",
        "```\n",
        "\n",
        "\n",
        "**Example 2:**\n",
        "```\n",
        "Input: \"bbbbb\"\n",
        "Output: 1\n",
        "Explanation: The answer is \"b\", with the length of 1.\n",
        "```\n",
        "\n",
        "**Example 3:**\n",
        "```\n",
        "Input: \"pwwkew\"\n",
        "Output: 3\n",
        "Explanation: The answer is \"wke\", with the length of 3. \n",
        "             Note that the answer must be a substring, \"pwke\" is a subsequence and not a substring.\n",
        "```\n"
      ]
    },
    {
      "cell_type": "code",
      "metadata": {
        "id": "LW0Y5YeFlu4a",
        "colab_type": "code",
        "colab": {}
      },
      "source": [
        "class Solution:\n",
        "    def lengthOfLongestSubstring(self, s: str) -> int:\n",
        "        used = {}\n",
        "        max_length = start = 0\n",
        "        for i, c in enumerate(s):\n",
        "            if c in used and start <= used[c]:\n",
        "                start = used[c] + 1\n",
        "            else:\n",
        "                max_length = max(max_length, i - start + 1)\n",
        "\n",
        "            used[c] = i\n",
        "\n",
        "        return max_length\n",
        "\n",
        "s = \"abcabcbb\"\n",
        "print(Solution().lengthOfLongestSubstring(s))"
      ],
      "execution_count": 0,
      "outputs": []
    },
    {
      "cell_type": "markdown",
      "metadata": {
        "id": "ulcsahG4rS-Y",
        "colab_type": "text"
      },
      "source": [
        "# 5. Longest Palindromic Substring\n",
        "Given a string s, find the longest palindromic substring in s. You may assume that the maximum length of s is 1000.\n",
        "\n",
        "**Example 1:**\n",
        "```\n",
        "Input: \"babad\"\n",
        "Output: \"bab\"\n",
        "Note: \"aba\" is also a valid answer.\n",
        "```\n",
        "**Example 2:**\n",
        "```\n",
        "Input: \"cbbd\"\n",
        "Output: \"bb\"\n",
        "```"
      ]
    },
    {
      "cell_type": "code",
      "metadata": {
        "id": "pFDeqQvrreG2",
        "colab_type": "code",
        "outputId": "4e48d567-8243-4710-ae2d-8fefa38f7c99",
        "colab": {
          "base_uri": "https://localhost:8080/",
          "height": 34
        }
      },
      "source": [
        "class Solution:\n",
        "    def longestPalindrome(self, s: str) -> str: \n",
        "        res = \"\"\n",
        "        for i in range(len(s)):\n",
        "            # odd case, like \"aba\"\n",
        "            tmp = self.helper(s, i, i)\n",
        "            if len(tmp) > len(res):\n",
        "                res = tmp\n",
        "            # even case, like \"abba\"\n",
        "            tmp = self.helper(s, i, i+1)\n",
        "            if len(tmp) > len(res):\n",
        "                res = tmp\n",
        "        return res\n",
        "\n",
        "    # get the longest palindrome, l, r are the middle indexes   \n",
        "    # from inner to outer\n",
        "    def helper(self, s, l, r):\n",
        "        while l >= 0 and r < len(s) and s[l] == s[r]:\n",
        "            l -= 1; r += 1\n",
        "        return s[l+1:r]\n",
        "\n",
        "s = \"babad\"\n",
        "print(Solution().longestPalindrome(s))"
      ],
      "execution_count": 0,
      "outputs": [
        {
          "output_type": "stream",
          "text": [
            "bab\n"
          ],
          "name": "stdout"
        }
      ]
    },
    {
      "cell_type": "markdown",
      "metadata": {
        "id": "mdyb_KjrF6TZ",
        "colab_type": "text"
      },
      "source": [
        "# 15. 3Sum \n",
        "Given an array nums of n integers, are there elements a, b, c in nums such that a + b + c = 0? Find all unique triplets in the array which gives the sum of zero.\n",
        "\n",
        "**Note:**\n",
        "\n",
        "The solution set must not contain duplicate triplets.\n",
        "\n",
        "**Example:**\n",
        "```\n",
        "Given array nums = [-1, 0, 1, 2, -1, -4],\n",
        "\n",
        "A solution set is:\n",
        "[\n",
        "  [-1, 0, 1],\n",
        "  [-1, -1, 2]\n",
        "]\n",
        "```"
      ]
    },
    {
      "cell_type": "code",
      "metadata": {
        "id": "MAOMvuOq9CUA",
        "colab_type": "code",
        "outputId": "50ab9b7e-9efe-48c7-ee4a-afbf91b01119",
        "colab": {
          "base_uri": "https://localhost:8080/",
          "height": 34
        }
      },
      "source": [
        "class Solution:\n",
        "    def threeSum(self, nums):\n",
        "      res = []\n",
        "      nums.sort()\n",
        "      \n",
        "      length = len(nums)\n",
        "      for i in range(length-2): #[8] You can think of it as The last two have been tried by all others.\n",
        "        if nums[i]>0: break #[7] We do not need to consider i after nums[i]>0, since sum of 3 positive will be always greater than zero.\n",
        "        if i>0 and nums[i]==nums[i-1]: continue #[1] If the number is the same as the number before, we have used it as target already, continue.\n",
        "\n",
        "        l, r = i+1, length-1 #[2] We always start the left pointer from i+1 because the combination of 0~i has already been tried.\n",
        "        while l<r:\n",
        "          total = nums[i]+nums[l]+nums[r]\n",
        "\n",
        "          if total<0: #[3] If the total is less than zero, we need it to be larger, so we move the left pointer. \n",
        "            l+=1\n",
        "          elif total>0: #[4] If the total is greater than zero, we need it to be smaller, so we move the right pointer. \n",
        "            r-=1\n",
        "          else: #[5] If the total is zero, bingo!\n",
        "            res.append([nums[i], nums[l], nums[r]])\n",
        "            while l<r and nums[l]==nums[l+1]: #[6] We need to move the left and right pointers to the next different numbers, so we do not get repeating result. \n",
        "              l+=1\n",
        "            while l<r and nums[r]==nums[r-1]: #[6]\n",
        "              r-=1\n",
        "            l+=1\n",
        "            r-=1\n",
        "      return res\n",
        "\n",
        "r = [-1, 0, 1, 2, -1, -4]\n",
        "print(Solution().threeSum(r))"
      ],
      "execution_count": 0,
      "outputs": [
        {
          "output_type": "stream",
          "text": [
            "[[-1, -1, 2], [-1, 0, 1]]\n"
          ],
          "name": "stdout"
        }
      ]
    },
    {
      "cell_type": "markdown",
      "metadata": {
        "id": "tyDK4JU2Lq04",
        "colab_type": "text"
      },
      "source": [
        "# 17. Letter Combinations of a Phone Number \n",
        "Given a string containing digits from 2-9 inclusive, return all possible letter combinations that the number could represent.\n",
        "\n",
        "A mapping of digit to letters (just like on the telephone buttons) is given below. Note that 1 does not map to any letters.\n",
        "\n",
        "\n",
        "\n",
        "**Example:**\n",
        "```\n",
        "Input: \"23\"\n",
        "Output: [\"ad\", \"ae\", \"af\", \"bd\", \"be\", \"bf\", \"cd\", \"ce\", \"cf\"].\n",
        "Note:\n",
        "```\n",
        "Although the above answer is in lexicographical order, your answer could be in any order you want."
      ]
    },
    {
      "cell_type": "code",
      "metadata": {
        "id": "r1uWUwRKL4BJ",
        "colab_type": "code",
        "outputId": "54367ce3-dca5-44c8-bd4c-1bb1ea177ae3",
        "colab": {
          "base_uri": "https://localhost:8080/",
          "height": 34
        }
      },
      "source": [
        "class Solution:\n",
        "    def letterCombinations(self, digits\n",
        "                           ):\n",
        "        interpret_digit = {\n",
        "            '1': '',\n",
        "            '2': 'abc',\n",
        "            '3': 'def',\n",
        "            '4': 'ghi',\n",
        "            '5': 'jkl',\n",
        "            '6': 'mno',\n",
        "            '7': 'pqrs',\n",
        "            '8': 'tuv',\n",
        "            '9': 'wxyz',\n",
        "            '0': ' '}\n",
        "        all_combinations = [''] if digits else []\n",
        "        for digit in digits:\n",
        "            current_combinations = list()\n",
        "            for letter in interpret_digit[digit]:\n",
        "                for combination in all_combinations:\n",
        "                    current_combinations.append(combination + letter)\n",
        "            all_combinations = current_combinations\n",
        "        return all_combinations\n",
        "\n",
        "s = \"23\"\n",
        "print(Solution().letterCombinations(s))"
      ],
      "execution_count": 0,
      "outputs": [
        {
          "output_type": "stream",
          "text": [
            "['ad', 'bd', 'cd', 'ae', 'be', 'ce', 'af', 'bf', 'cf']\n"
          ],
          "name": "stdout"
        }
      ]
    },
    {
      "cell_type": "markdown",
      "metadata": {
        "id": "CV7ZCq8SYio8",
        "colab_type": "text"
      },
      "source": [
        "# 20. Valid Parentheses \n",
        "Given a string containing just the characters '(', ')', '{', '}', '[' and ']', determine if the input string is valid.\n",
        "\n",
        "An input string is valid if:\n",
        "\n",
        "\n",
        "*   Open brackets must be closed by the same type of brackets.\n",
        "*   Open brackets must be closed in the correct order.\n",
        "*   Note that an empty string is also considered valid.\n",
        "\n",
        "**Example** 1:\n",
        "```\n",
        "Input: \"()\"\n",
        "Output: true\n",
        "```\n",
        "**Example** 2:\n",
        "```\n",
        "Input: \"()[]{}\"\n",
        "Output: true\n",
        "```\n",
        "**Example** 3:\n",
        "```\n",
        "Input: \"(]\"\n",
        "Output: false\n",
        "```\n",
        "**Example** 4:\n",
        "```\n",
        "Input: \"([)]\"\n",
        "Output: false\n",
        "```\n",
        "**Example** 5:\n",
        "```\n",
        "Input: \"{[]}\"\n",
        "Output: true\n",
        "```"
      ]
    },
    {
      "cell_type": "code",
      "metadata": {
        "id": "2XrKIgKkCsG6",
        "colab_type": "code",
        "outputId": "84f3a454-0422-4229-ebe7-79c704f55ee8",
        "colab": {
          "base_uri": "https://localhost:8080/",
          "height": 34
        }
      },
      "source": [
        "class Solution(object):\n",
        "    def isValid(self, s):\n",
        "        while \"()\" in s or \"{}\" in s or '[]' in s:\n",
        "            s = s.replace(\"()\", \"\").replace('{}', \"\").replace('[]', \"\")\n",
        "        return s == ''\n",
        "        \n",
        "s = \"{[]}\"\n",
        "print(Solution().isValid(s))"
      ],
      "execution_count": 0,
      "outputs": [
        {
          "output_type": "stream",
          "text": [
            "True\n"
          ],
          "name": "stdout"
        }
      ]
    },
    {
      "cell_type": "markdown",
      "metadata": {
        "id": "cS03XtcKZXRM",
        "colab_type": "text"
      },
      "source": [
        "# 21. Merge Two Sorted Lists \n",
        "Merge two sorted linked lists and return it as a new list. The new list should be made by splicing together the nodes of the first two lists.\n",
        "\n",
        "**Example**:\n",
        "```\n",
        "Input: 1->2->4, 1->3->4\n",
        "Output: 1->1->2->3->4->4\n",
        "```"
      ]
    },
    {
      "cell_type": "code",
      "metadata": {
        "id": "Y0aYklwljfhL",
        "colab_type": "code",
        "outputId": "21f7ef00-a94f-49d0-b186-f143a26a561a",
        "colab": {
          "base_uri": "https://localhost:8080/",
          "height": 34
        }
      },
      "source": [
        " class Solution:\n",
        "    def mergeTwoLists(self, l1: ListNode, l2: ListNode) -> ListNode:\n",
        "        head = dummy = ListNode(0)\n",
        "        \n",
        "        while l1 and l2:\n",
        "            if l1.val < l2.val:\n",
        "                dummy.next = l1\n",
        "                l1 = l1.next\n",
        "            else:\n",
        "                dummy.next = l2\n",
        "                l2 = l2.next\n",
        "            dummy = dummy.next\n",
        "            \n",
        "        dummy.next = l1 or l2\n",
        "        return head.next\n",
        "\n",
        "class ListNode:\n",
        "  def __init__(self, data):\n",
        "    self.val = data\n",
        "    self.next = None\n",
        "\n",
        "l1 = ListNode(1)\n",
        "l1.next = ListNode(2)\n",
        "l1.next.next = ListNode(4)\n",
        "\n",
        "l2 = ListNode(1)\n",
        "l2.next = ListNode(3)\n",
        "l2.next.next = ListNode(4)\n",
        "\n",
        "print(Solution().mergeTwoLists(l1,l2).val)"
      ],
      "execution_count": 0,
      "outputs": [
        {
          "output_type": "stream",
          "text": [
            "1\n"
          ],
          "name": "stdout"
        }
      ]
    },
    {
      "cell_type": "markdown",
      "metadata": {
        "id": "BBVK7Q9Dqx_r",
        "colab_type": "text"
      },
      "source": [
        "# 23. Merge k Sorted Lists \n",
        "Merge k sorted linked lists and return it as one sorted list. Analyze and describe its complexity.\n",
        "\n",
        "**Example**:\n",
        "```\n",
        "Input:\n",
        "[\n",
        "  1->4->5,\n",
        "  1->3->4,\n",
        "  2->6\n",
        "]\n",
        "Output: 1->1->2->3->4->4->5->6\n",
        "```"
      ]
    },
    {
      "cell_type": "code",
      "metadata": {
        "id": "nuNnCbpHq2fV",
        "colab_type": "code",
        "colab": {}
      },
      "source": [
        "class Solution:\n",
        "    def mergeKLists(self, lists: List[ListNode]) -> ListNode:\n",
        "        from heapq import heappush, heappop, heapreplace, heapify\n",
        "        \n",
        "        heap = [(head.val, i, head) for i,head in enumerate(lists) if head]\n",
        "        heapify(heap)\n",
        "        dummy = ListNode(0)\n",
        "        curr = dummy\n",
        "        while heap != []:\n",
        "            val, i, node = heap[0]\n",
        "            if not node.next: # exhausted one linked-list\n",
        "                heappop(heap)\n",
        "            else:\n",
        "                heapreplace(heap, (node.next.val, i, node.next)) # recycling tie-breaker i guarantees uniqueness\n",
        "            curr.next = node    \n",
        "            curr = curr.next\n",
        "        return dummy.next"
      ],
      "execution_count": 0,
      "outputs": []
    },
    {
      "cell_type": "markdown",
      "metadata": {
        "id": "ZWbPUgVExxfw",
        "colab_type": "text"
      },
      "source": [
        "# 42. Trapping Rain Water \n",
        "Given n non-negative integers representing an elevation map where the width of each bar is 1, compute how much water it is able to trap after raining.\n",
        "\n",
        "\n",
        "The above elevation map is represented by array [0,1,0,2,1,0,1,3,2,1,2,1]. In this case, 6 units of rain water (blue section) are being trapped. Thanks Marcos for contributing this image!\n",
        "\n",
        "**Example**:\n",
        "```\n",
        "Input: [0,1,0,2,1,0,1,3,2,1,2,1]\n",
        "Output: 6\n",
        "```"
      ]
    },
    {
      "cell_type": "code",
      "metadata": {
        "id": "UwtICaFv252I",
        "colab_type": "code",
        "colab": {}
      },
      "source": [
        "class Solution:\n",
        "    def trap(self, height: List[int]) -> int:\n",
        "        areas = 0\n",
        "        max_l = max_r = 0\n",
        "        l = 0\n",
        "        r = len(height)-1\n",
        "        while l < r:\n",
        "            if height[l] < height[r]:\n",
        "                if height[l] > max_l:\n",
        "                    max_l = height[l]\n",
        "                else:\n",
        "                    areas += max_l - height[l]\n",
        "                l +=1\n",
        "            else:\n",
        "                if height[r] > max_r:\n",
        "                    max_r = height[r]\n",
        "                else:\n",
        "                    areas += max_r - height[r]\n",
        "                r -=1\n",
        "        return areas"
      ],
      "execution_count": 0,
      "outputs": []
    },
    {
      "cell_type": "markdown",
      "metadata": {
        "id": "gEqqReZq29As",
        "colab_type": "text"
      },
      "source": [
        "# 48. Rotate Image \n",
        "You are given an n x n 2D matrix representing an image.\n",
        "\n",
        "Rotate the image by 90 degrees (clockwise).\n",
        "\n",
        "**Note**:\n",
        "\n",
        "You have to rotate the image in-place, which means you have to modify the input 2D matrix directly. **DO NOT** allocate another 2D matrix and do the rotation.\n",
        "\n",
        "**Example** 1:\n",
        "```\n",
        "Given input matrix = \n",
        "[\n",
        "  [1,2,3],\n",
        "  [4,5,6],\n",
        "  [7,8,9]\n",
        "],\n",
        "\n",
        "rotate the input matrix in-place such that it becomes:\n",
        "[\n",
        "  [7,4,1],\n",
        "  [8,5,2],\n",
        "  [9,6,3]\n",
        "]\n",
        "```\n",
        "**Example** 2:\n",
        "```\n",
        "Given input matrix =\n",
        "[\n",
        "  [ 5, 1, 9,11],\n",
        "  [ 2, 4, 8,10],\n",
        "  [13, 3, 6, 7],\n",
        "  [15,14,12,16]\n",
        "], \n",
        "\n",
        "rotate the input matrix in-place such that it becomes:\n",
        "[\n",
        "  [15,13, 2, 5],\n",
        "  [14, 3, 4, 1],\n",
        "  [12, 6, 8, 9],\n",
        "  [16, 7,10,11]\n",
        "]\n",
        "```"
      ]
    },
    {
      "cell_type": "code",
      "metadata": {
        "id": "k9Xv5-6B3X8d",
        "colab_type": "code",
        "colab": {}
      },
      "source": [
        "class Solution:\n",
        "    def rotate(self, matrix: List[List[int]]) -> None:\n",
        "        \"\"\"\n",
        "        Do not return anything, modify matrix in-place instead.\n",
        "        \"\"\"\n",
        "        # [::-1] to flip the matrix upside down and zip to transpose it\n",
        "        # matrix[:] to reference the current matrix, and not reference another object\n",
        "        matrix[:] = zip(*matrix[::-1])\n",
        "    \n",
        "# first transpose and then flip left-right instead of upside-down\n",
        "class Solution:\n",
        "    def rotate(self, A):\n",
        "        n = len(A)\n",
        "        for i in range(n):\n",
        "            for j in range(i):\n",
        "                A[i][j], A[j][i] = A[j][i], A[i][j]\n",
        "        for row in A:\n",
        "            for j in range(n/2):\n",
        "                row[j], row[~j] = row[~j], row[j]"
      ],
      "execution_count": 0,
      "outputs": []
    },
    {
      "cell_type": "markdown",
      "metadata": {
        "id": "OoXYQi138tCK",
        "colab_type": "text"
      },
      "source": [
        "# 78. Subsets \n",
        "Given a set of distinct integers, nums, return all possible subsets (the power set).\n",
        "\n",
        "**Note:** The solution set must not contain duplicate subsets.\n",
        "\n",
        "**Example**:\n",
        "```\n",
        "Input: nums = [1,2,3]\n",
        "Output:\n",
        "[\n",
        "  [3],\n",
        "  [1],\n",
        "  [2],\n",
        "  [1,2,3],\n",
        "  [1,3],\n",
        "  [2,3],\n",
        "  [1,2],\n",
        "  []\n",
        "]\n",
        "```"
      ]
    },
    {
      "cell_type": "code",
      "metadata": {
        "id": "rfaLkdht91Sc",
        "colab_type": "code",
        "colab": {}
      },
      "source": [
        "class Solution:\n",
        "    def subsets(self, nums):\n",
        "        res = [[]]\n",
        "        for num in nums:\n",
        "            res += [item+[num] for item in res]\n",
        "        return res\n",
        "s = [1,2,3]\n",
        "print(Solution().subsets(s))"
      ],
      "execution_count": 0,
      "outputs": []
    },
    {
      "cell_type": "markdown",
      "metadata": {
        "id": "nfPysV4LSShr",
        "colab_type": "text"
      },
      "source": [
        "# 98. Validate Binary Search Tree \n",
        "Given a binary tree, determine if it is a valid binary search tree (BST).\n",
        "\n",
        "Assume a BST is defined as follows:\n",
        "\n",
        "The left subtree of a node contains only nodes with keys less than the node's key.\n",
        "The right subtree of a node contains only nodes with keys greater than the node's key.\n",
        "Both the left and right subtrees must also be binary search trees.\n",
        " \n",
        "\n",
        "**Example 1:**\n",
        "```\n",
        "    2\n",
        "   / \\\n",
        "  1   3\n",
        "\n",
        "Input: [2,1,3]\n",
        "Output: true\n",
        "```\n",
        "**Example 2:**\n",
        "```\n",
        "    5\n",
        "   / \\\n",
        "  1   4\n",
        "     / \\\n",
        "    3   6\n",
        "\n",
        "Input: [5,1,4,null,null,3,6]\n",
        "Output: false\n",
        "Explanation: The root node's value is 5 but its right child's value is 4.\n",
        "```"
      ]
    },
    {
      "cell_type": "code",
      "metadata": {
        "id": "-MBjzDCBShrO",
        "colab_type": "code",
        "colab": {}
      },
      "source": [
        "class Solution:\n",
        "    def isValidBST(self, root: TreeNode) -> bool:\n",
        "        def check_bst(node, left, right):\n",
        "            if not node:\n",
        "                return True\n",
        "\n",
        "            if not left < node.val < right:\n",
        "                return False\n",
        "\n",
        "            return (check_bst(node.left, left, node.val)\n",
        "                    and check_bst(node.right, node.val, right))\n",
        "\n",
        "        return check_bst(root, float(\"-inf\"), float(\"inf\"))"
      ],
      "execution_count": 0,
      "outputs": []
    },
    {
      "cell_type": "markdown",
      "metadata": {
        "id": "bye1F-KAZRoT",
        "colab_type": "text"
      },
      "source": [
        "# 102. Binary Tree Level Order Traversal \n",
        "Given a binary tree, return the level order traversal of its nodes' values. (ie, from left to right, level by level).\n",
        "\n",
        "**For example:**\n",
        "```\n",
        "Given binary tree [3,9,20,null,null,15,7],\n",
        "    3\n",
        "   / \\\n",
        "  9  20\n",
        "    /  \\\n",
        "   15   7\n",
        "```\n",
        "return its level order traversal as:\n",
        "```\n",
        "[\n",
        "  [3],\n",
        "  [9,20],\n",
        "  [15,7]\n",
        "]\n",
        "```"
      ]
    },
    {
      "cell_type": "code",
      "metadata": {
        "id": "WROTg1LlZhlW",
        "colab_type": "code",
        "colab": {}
      },
      "source": [
        "# Definition for a binary tree node.\n",
        "# class TreeNode:\n",
        "#     def __init__(self, x):\n",
        "#         self.val = x\n",
        "#         self.left = None\n",
        "#         self.right = None\n",
        "\n",
        "class Solution:\n",
        "    def levelOrder(self, root: TreeNode) -> List[List[int]]:\n",
        "        ret = []\n",
        "\n",
        "        level = [root]\n",
        "\n",
        "        while root and level:\n",
        "            currentNodes = []\n",
        "            nextLevel = []\n",
        "            for node in level:\n",
        "                currentNodes.append(node.val)\n",
        "                if node.left:\n",
        "                    nextLevel.append(node.left)\n",
        "                if node.right:\n",
        "                    nextLevel.append(node.right)\n",
        "            ret.append(currentNodes)\n",
        "            level = nextLevel\n",
        "\n",
        "\n",
        "        return ret"
      ],
      "execution_count": 0,
      "outputs": []
    },
    {
      "cell_type": "markdown",
      "metadata": {
        "id": "KpFKYFGYestB",
        "colab_type": "text"
      },
      "source": [
        "# 121. Best Time to Buy and Sell Stock \n",
        "Say you have an array for which the ith element is the price of a given stock on day i.\n",
        "\n",
        "If you were only permitted to complete at most one transaction (i.e., buy one and sell one share of the stock), design an algorithm to find the maximum profit.\n",
        "\n",
        "Note that you cannot sell a stock before you buy one.\n",
        "\n",
        "**Example 1:**\n",
        "```\n",
        "Input: [7,1,5,3,6,4]\n",
        "Output: 5\n",
        "Explanation: Buy on day 2 (price = 1) and sell on day 5 (price = 6), profit = 6-1 = 5.\n",
        "             Not 7-1 = 6, as selling price needs to be larger than buying price.\n",
        "```\n",
        "**Example 2:**\n",
        "```\n",
        "Input: [7,6,4,3,1]\n",
        "Output: 0\n",
        "Explanation: In this case, no transaction is done, i.e. max profit = 0.\n",
        "```"
      ]
    },
    {
      "cell_type": "code",
      "metadata": {
        "id": "qXDjmbuoekxE",
        "colab_type": "code",
        "colab": {}
      },
      "source": [
        "class Solution:\n",
        "    def maxProfit(self, prices: List[int]) -> int:  \n",
        "        max_profit, min_price = 0, float('inf')\n",
        "        \n",
        "        for price in prices:\n",
        "            min_price = min(min_price, price)\n",
        "            profit = price - min_price\n",
        "            max_profit = max(max_profit, profit)\n",
        "        return max_profit"
      ],
      "execution_count": 0,
      "outputs": []
    },
    {
      "cell_type": "markdown",
      "metadata": {
        "id": "5kSpdGdgX6c0",
        "colab_type": "text"
      },
      "source": [
        "# 155. Min Stack \n",
        "Design a stack that supports push, pop, top, and retrieving the minimum element in constant time.\n",
        "```\n",
        "push(x) -- Push element x onto stack.\n",
        "pop() -- Removes the element on top of the stack.\n",
        "top() -- Get the top element.\n",
        "getMin() -- Retrieve the minimum element in the stack.\n",
        "```\n",
        "\n",
        "**Example**:\n",
        "```\n",
        "MinStack minStack = new MinStack();\n",
        "minStack.push(-2);\n",
        "minStack.push(0);\n",
        "minStack.push(-3);\n",
        "minStack.getMin();   --> Returns -3.\n",
        "minStack.pop();\n",
        "minStack.top();      --> Returns 0.\n",
        "minStack.getMin();   --> Returns -2.\n",
        "```"
      ]
    },
    {
      "cell_type": "code",
      "metadata": {
        "id": "CCVu-DRFYCyt",
        "colab_type": "code",
        "colab": {}
      },
      "source": [
        "class MinStack:\n",
        "\n",
        "    def __init__(self):\n",
        "        \"\"\"\n",
        "        initialize your data structure here.\n",
        "        \"\"\"\n",
        "        self.stack = []\n",
        "        \n",
        "\n",
        "    def push(self, x: int) -> None:\n",
        "        curMin = self.getMin()\n",
        "        if curMin == None or x < curMin:\n",
        "            curMin = x\n",
        "        self.stack.append((x, curMin))\n",
        "\n",
        "    def pop(self) -> None:\n",
        "        self.stack.pop()\n",
        "\n",
        "    def top(self) -> int:\n",
        "        if self.stack:\n",
        "            return self.stack[-1][0]\n",
        "\n",
        "    def getMin(self) -> int:\n",
        "        if self.stack:\n",
        "            return self.stack[-1][1] \n",
        "\n",
        "\n",
        "# Your MinStack object will be instantiated and called as such:\n",
        "# obj = MinStack()\n",
        "# obj.push(x)\n",
        "# obj.pop()\n",
        "# param_3 = obj.top()\n",
        "# param_4 = obj.getMin()"
      ],
      "execution_count": 0,
      "outputs": []
    },
    {
      "cell_type": "markdown",
      "metadata": {
        "id": "fo37K8eGYDhI",
        "colab_type": "text"
      },
      "source": [
        "# 160. Intersection of Two Linked Lists \n",
        "Write a program to find the node at which the intersection of two singly linked lists begins.\n",
        "\n",
        "For example, the following two linked lists:\n",
        "![texto alternativo](https://assets.leetcode.com/uploads/2018/12/13/160_statement.png)"
      ]
    },
    {
      "cell_type": "code",
      "metadata": {
        "id": "N_m3t1Oab7Ic",
        "colab_type": "code",
        "colab": {}
      },
      "source": [
        "# Definition for singly-linked list.\n",
        "# class ListNode:\n",
        "#     def __init__(self, x):\n",
        "#         self.val = x\n",
        "#         self.next = None\n",
        "\n",
        "class Solution:\n",
        "    def getIntersectionNode(self, headA: ListNode, headB: ListNode) -> ListNode:\n",
        "        visited = set()\n",
        "        \n",
        "        while headA:\n",
        "            visited.add(headA);\n",
        "            headA = headA.next\n",
        "            \n",
        "        while headB:\n",
        "            if headB in visited:\n",
        "                return headB\n",
        "            \n",
        "            headB = headB.next\n",
        "                \n",
        "        return None"
      ],
      "execution_count": 0,
      "outputs": []
    },
    {
      "cell_type": "markdown",
      "metadata": {
        "id": "e_4fRtKccB2v",
        "colab_type": "text"
      },
      "source": [
        "# 167. Two Sum II - Input array is sorted \n",
        "Given an array of integers that is already sorted in ascending order, find two numbers such that they add up to a specific target number.\n",
        "\n",
        "The function twoSum should return indices of the two numbers such that they add up to the target, where index1 must be less than index2.\n",
        "\n",
        "**Note:**\n",
        "\n",
        "Your returned answers (both index1 and index2) are not zero-based.\n",
        "You may assume that each input would have exactly one solution and you may not use the same element twice.\n",
        "\n",
        "**Example:**\n",
        "```\n",
        "Input: numbers = [2,7,11,15], target = 9\n",
        "Output: [1,2]\n",
        "Explanation: The sum of 2 and 7 is 9. Therefore index1 = 1, index2 = 2.\n",
        "```"
      ]
    },
    {
      "cell_type": "code",
      "metadata": {
        "id": "c5uq0j_Og25b",
        "colab_type": "code",
        "colab": {}
      },
      "source": [
        "class Solution:\n",
        "    def twoSum(self, numbers, target):     \n",
        "        dic = {}\n",
        "        for i, num in enumerate(numbers):\n",
        "            if target-num in dic:\n",
        "                return [dic[target-num]+1, i+1]\n",
        "            dic[num] = i\n",
        "            \n",
        "print(Solution().twoSum([2,5,4,3,7,2],9))"
      ],
      "execution_count": 0,
      "outputs": []
    },
    {
      "cell_type": "markdown",
      "metadata": {
        "id": "EMynH3W8seHb",
        "colab_type": "text"
      },
      "source": [
        "# 199. Binary Tree Right Side View \n",
        "Given a binary tree, imagine yourself standing on the right side of it, return the values of the nodes you can see ordered from top to bottom.\n",
        "\n",
        "**Example**:\n",
        "```\n",
        "Input: [1,2,3,null,5,null,4]\n",
        "Output: [1, 3, 4]\n",
        "Explanation:\n",
        "\n",
        "   1            <---\n",
        " /   \\\n",
        "2     3         <---\n",
        " \\     \\\n",
        "  5     4       <---\n",
        "```"
      ]
    },
    {
      "cell_type": "code",
      "metadata": {
        "id": "HpU6LWrJseU1",
        "colab_type": "code",
        "colab": {}
      },
      "source": [
        "# Definition for a binary tree node.\n",
        "# class TreeNode:\n",
        "#     def __init__(self, x):\n",
        "#         self.val = x\n",
        "#         self.left = None\n",
        "#         self.right = None\n",
        "\n",
        "class Solution:\n",
        "    def rightSideView(self, root: TreeNode) -> List[int]:\n",
        "        def collect(node, depth):\n",
        "            if node:\n",
        "                if depth == len(view):\n",
        "                    view.append(node.val)\n",
        "                collect(node.right, depth+1)\n",
        "                collect(node.left, depth+1)\n",
        "                \n",
        "        view = []\n",
        "        collect(root, 0)\n",
        "        return view"
      ],
      "execution_count": 0,
      "outputs": []
    },
    {
      "cell_type": "markdown",
      "metadata": {
        "id": "U3DCoi7h0uxC",
        "colab_type": "text"
      },
      "source": [
        "# 200. Number of Islands \n",
        "Given a 2d grid map of '1's (land) and '0's (water), count the number of islands. An island is surrounded by water and is formed by connecting adjacent lands horizontally or vertically. You may assume all four edges of the grid are all surrounded by water.\n",
        "\n",
        "**Example 1:**\n",
        "```\n",
        "Input:\n",
        "11110\n",
        "11010\n",
        "11000\n",
        "00000\n",
        "\n",
        "Output: 1\n",
        "```\n",
        "**Example 2:**\n",
        "```\n",
        "Input:\n",
        "11000\n",
        "11000\n",
        "00100\n",
        "00011\n",
        "\n",
        "Output: 3\n",
        "```"
      ]
    },
    {
      "cell_type": "code",
      "metadata": {
        "id": "JgnzrrMb0vCE",
        "colab_type": "code",
        "colab": {}
      },
      "source": [
        "class Solution:\n",
        "    def numIslands(self, grid: List[List[str]]) -> int:\n",
        "        if not grid:\n",
        "            return 0\n",
        "\n",
        "        count = 0\n",
        "        for i in range(len(grid)):\n",
        "            for j in range(len(grid[0])):\n",
        "                if grid[i][j] == '1':\n",
        "                    count += self.dfs(grid, i, j)\n",
        "        return count\n",
        "\n",
        "    def dfs(self, grid, i, j):\n",
        "        if i<0 or j<0 or i>=len(grid) or j>=len(grid[0]) or grid[i][j] != '1':\n",
        "            return 0\n",
        "        \n",
        "        grid[i][j] = '#'\n",
        "        self.dfs(grid, i+1, j)\n",
        "        self.dfs(grid, i-1, j)\n",
        "        self.dfs(grid, i, j+1)\n",
        "        self.dfs(grid, i, j-1)\n",
        "        return 1"
      ],
      "execution_count": 0,
      "outputs": []
    },
    {
      "cell_type": "markdown",
      "metadata": {
        "id": "HokOTi0EqXdF",
        "colab_type": "text"
      },
      "source": [
        "# 204. Count Primes \n",
        "Count the number of prime numbers less than a non-negative number, n.\n",
        "\n",
        "**Example:**\n",
        "```\n",
        "Input: 10\n",
        "Output: 4\n",
        "Explanation: There are 4 prime numbers less than 10, they are 2, 3, 5, 7.\n",
        "```"
      ]
    },
    {
      "cell_type": "code",
      "metadata": {
        "id": "ua4FnA2TqX3r",
        "colab_type": "code",
        "colab": {}
      },
      "source": [
        "class Solution:\n",
        "    def countPrimes(self, n: int) -> int:\n",
        "        if n < 3:\n",
        "            return 0\n",
        "        primes = [True] * n\n",
        "        primes[0] = primes[1] = False\n",
        "        for i in range(2, int(n ** 0.5) + 1):\n",
        "            if primes[i]:\n",
        "                primes[i * i: n: i] = [False] * len(primes[i * i: n: i])\n",
        "        return sum(primes)"
      ],
      "execution_count": 0,
      "outputs": []
    },
    {
      "cell_type": "markdown",
      "metadata": {
        "id": "8Xqgi1T0qqmb",
        "colab_type": "text"
      },
      "source": [
        "# 206. Reverse Linked List \n",
        "Reverse a singly linked list.\n",
        "\n",
        "**Example**:\n",
        "```\n",
        "Input: 1->2->3->4->5->NULL\n",
        "Output: 5->4->3->2->1->NULL\n",
        "```"
      ]
    },
    {
      "cell_type": "code",
      "metadata": {
        "id": "6mNoRxyHqq31",
        "colab_type": "code",
        "colab": {}
      },
      "source": [
        "# Definition for singly-linked list.\n",
        "# class ListNode:\n",
        "#     def __init__(self, x):\n",
        "#         self.val = x\n",
        "#         self.next = None\n",
        "\n",
        "class Solution:\n",
        "    def reverseList_v1(self, head: ListNode) -> ListNode:# Iterative\n",
        "    prev, curr = None, head\n",
        "    while curr:\n",
        "        curr.next, prev, curr = prev, curr, curr.next\n",
        "    return prev \n",
        "        \n",
        "    def reverseList(self, head):  # Recursive\n",
        "        if not head or not head.next:\n",
        "            return head\n",
        "        \n",
        "        p = self.reverseList(head.next)\n",
        "        \n",
        "        head.next.next = head\n",
        "        head.next = None\n",
        "        return p "
      ],
      "execution_count": 0,
      "outputs": []
    },
    {
      "cell_type": "markdown",
      "metadata": {
        "id": "4CBVdCfFfZZ0",
        "colab_type": "text"
      },
      "source": [
        "# 215. Kth Largest Element in an Array \n",
        "Find the kth largest element in an unsorted array. Note that it is the kth largest element in the sorted order, not the kth distinct element.\n",
        "\n",
        "**Example 1:**\n",
        "```\n",
        "Input: [3,2,1,5,6,4] and k = 2\n",
        "Output: 5\n",
        "```\n",
        "**Example 2:**\n",
        "```\n",
        "Input: [3,2,3,1,2,4,5,5,6] and k = 4\n",
        "Output: 4\n",
        "```"
      ]
    },
    {
      "cell_type": "code",
      "metadata": {
        "id": "WY0SG__4fZqk",
        "colab_type": "code",
        "colab": {}
      },
      "source": [
        "class Solution:\n",
        "    def findKthLargest(self, nums: List[int], k: int) -> int:\n",
        "          return sorted(nums, reverse=True)[k-1]"
      ],
      "execution_count": 0,
      "outputs": []
    },
    {
      "cell_type": "markdown",
      "metadata": {
        "id": "2ltODqoRfmWF",
        "colab_type": "text"
      },
      "source": [
        "# 234. Palindrome Linked List \n",
        "Given a singly linked list, determine if it is a palindrome.\n",
        "\n",
        "**Example 1:**\n",
        "```\n",
        "Input: 1->2\n",
        "Output: false\n",
        "```\n",
        "**Example 2:**\n",
        "```\n",
        "Input: 1->2->2->1\n",
        "Output: true\n",
        "```\n",
        "**Follow up:**\n",
        "Could you do it in O(n) time and O(1) space?"
      ]
    },
    {
      "cell_type": "code",
      "metadata": {
        "id": "pwnS1aNgfmnP",
        "colab_type": "code",
        "colab": {}
      },
      "source": [
        "# Definition for singly-linked list.\n",
        "# class ListNode:\n",
        "#     def __init__(self, x):\n",
        "#         self.val = x\n",
        "#         self.next = None\n",
        "\n",
        "class Solution:\n",
        "    def isPalindrome(self, head: ListNode) -> bool:\n",
        "        '''\n",
        "        curr = head\n",
        "        s = []\n",
        "        while curr:\n",
        "            s.append(curr.val)\n",
        "            curr = curr.next\n",
        "        \n",
        "        l, r = 0, len(s)-1\n",
        "        \n",
        "        while l < r:\n",
        "            if s[l] != s[r]:\n",
        "                return False\n",
        "            l+=1\n",
        "            r-=1\n",
        "        return True\n",
        "        ''' \n",
        "        \n",
        "        '''\n",
        "            1   2   3   2   1\n",
        "        r   sf  \n",
        "            r   s   f\n",
        "                r   s       f\n",
        "                        s\n",
        "             <- r       s ->\n",
        "             \n",
        "             \n",
        "            1   2   2   1\n",
        "         r  sf  \n",
        "            r   s   f\n",
        "                r   s       f\n",
        "              <-r   s->\n",
        "        '''\n",
        "        rev = None\n",
        "        slow = fast = head\n",
        "        \n",
        "        while fast and fast.next:\n",
        "            fast = fast.next.next\n",
        "            rev, rev.next, slow = slow, rev, slow.next\n",
        "            print(rev)\n",
        "            \n",
        "        if fast:\n",
        "            slow = slow.next\n",
        "            \n",
        "        while rev and rev.val == slow.val:\n",
        "            slow = slow.next\n",
        "            rev = rev.next\n",
        "            \n",
        "        return not rev\n",
        "        \n",
        "        "
      ],
      "execution_count": 0,
      "outputs": []
    },
    {
      "cell_type": "markdown",
      "metadata": {
        "id": "xFmQ1Xy9nPQI",
        "colab_type": "text"
      },
      "source": [
        "# 235. Lowest Common Ancestor of a Binary Search Tree\n",
        "Given a binary search tree (BST), find the lowest common ancestor (LCA) of two given nodes in the BST.\n",
        "\n",
        "According to the definition of LCA on Wikipedia: “The lowest common ancestor is defined between two nodes p and q as the lowest node in T that has both p and q as descendants (where we allow a node to be a descendant of itself).”\n",
        "\n",
        "Given binary search tree:  root = [6,2,8,0,4,7,9,null,null,3,5]\n",
        "\n",
        "![texto alternativo](https://assets.leetcode.com/uploads/2018/12/14/binarysearchtree_improved.png)\n",
        "\n",
        "**Example 1:**\n",
        "```\n",
        "Input: root = [6,2,8,0,4,7,9,null,null,3,5], p = 2, q = 8\n",
        "Output: 6\n",
        "Explanation: The LCA of nodes 2 and 8 is 6.\n",
        "```\n",
        "**Example 2:**\n",
        "```\n",
        "Input: root = [6,2,8,0,4,7,9,null,null,3,5], p = 2, q = 4\n",
        "Output: 2\n",
        "Explanation: The LCA of nodes 2 and 4 is 2, since a node can be a descendant of itself according to the LCA definition.\n",
        " ```\n",
        "\n",
        "**Note:**\n",
        "\n",
        "All of the nodes' values will be unique.\n",
        "p and q are different and both values will exist in the BST."
      ]
    },
    {
      "cell_type": "code",
      "metadata": {
        "id": "9haHU6ijnPfg",
        "colab_type": "code",
        "colab": {}
      },
      "source": [
        "# Definition for a binary tree node.\n",
        "# class TreeNode:\n",
        "#     def __init__(self, x):\n",
        "#         self.val = x\n",
        "#         self.left = None\n",
        "#         self.right = None\n",
        "\n",
        "class Solution:\n",
        "    def lowestCommonAncestor(self, root: 'TreeNode', p: 'TreeNode', q: 'TreeNode') -> 'TreeNode':\n",
        "        # if (p and q) > root then go to the right of the BST\n",
        "        if p.val > root.val and q.val > root.val:\n",
        "            return self.lowestCommonAncestor(root.right, p, q)\n",
        "        # if they are < root, go to the left of the BST\n",
        "        elif p.val < root.val and q.val < root.val:\n",
        "            return self.lowestCommonAncestor(root.left, p, q)\n",
        "        # we have found the common node\n",
        "        else:\n",
        "            return root\n",
        "                "
      ],
      "execution_count": 0,
      "outputs": []
    },
    {
      "cell_type": "markdown",
      "metadata": {
        "id": "-xQGAidp4qsQ",
        "colab_type": "text"
      },
      "source": [
        "# 236. Lowest Common Ancestor of a Binary Tree \n",
        "Given a binary tree, find the lowest common ancestor (LCA) of two given nodes in the tree.\n",
        "\n",
        "According to the definition of LCA on Wikipedia: “The lowest common ancestor is defined between two nodes p and q as the lowest node in T that has both p and q as descendants (where we allow a node to be a descendant of itself).”\n",
        "\n",
        "Given the following binary tree:  root = [3,5,1,6,2,0,8,null,null,7,4]\n",
        "\n",
        "![texto alternativo](https://assets.leetcode.com/uploads/2018/12/14/binarytree.png)\n",
        " \n",
        "\n",
        "**Example 1:**\n",
        "```\n",
        "Input: root = [3,5,1,6,2,0,8,null,null,7,4], p = 5, q = 1\n",
        "Output: 3\n",
        "Explanation: The LCA of nodes 5 and 1 is 3.\n",
        "```\n",
        "**Example 2:**\n",
        "```\n",
        "Input: root = [3,5,1,6,2,0,8,null,null,7,4], p = 5, q = 4\n",
        "Output: 5\n",
        "Explanation: The LCA of nodes 5 and 4 is 5, since a node can be a descendant of itself according to the LCA definition.\n",
        " ```\n",
        "\n",
        "**Note:**\n",
        "\n",
        "All of the nodes' values will be unique.\n",
        "p and q are different and both values will exist in the binary tree."
      ]
    },
    {
      "cell_type": "code",
      "metadata": {
        "id": "gOuhspQP4q69",
        "colab_type": "code",
        "colab": {}
      },
      "source": [
        "# Definition for a binary tree node.\n",
        "# class TreeNode:\n",
        "#     def __init__(self, x):\n",
        "#         self.val = x\n",
        "#         self.left = None\n",
        "#         self.right = None\n",
        "\n",
        "class Solution:\n",
        "    def lowestCommonAncestor(self, root: 'TreeNode', p: 'TreeNode', q: 'TreeNode') -> 'TreeNode':\n",
        "        \n",
        "        if root in (None, p, q):return root\n",
        "        \n",
        "        left = right = None\n",
        "        \n",
        "        if root.left:\n",
        "            left = self.lowestCommonAncestor(root.left, p, q)\n",
        "        if root.right:\n",
        "            right = self.lowestCommonAncestor(root.right, p,q)\n",
        "            \n",
        "        if left and right:\n",
        "            return root\n",
        "        else:\n",
        "            return left or right"
      ],
      "execution_count": 0,
      "outputs": []
    },
    {
      "cell_type": "markdown",
      "metadata": {
        "id": "h8FLqqPEG1x-",
        "colab_type": "text"
      },
      "source": [
        "# 238. Product of Array Except Self \n",
        "Given an array nums of n integers where n > 1,  return an array output such that output[i] is equal to the product of all the elements of nums except nums[i].\n",
        "\n",
        "**Example:**\n",
        "```\n",
        "Input:  [1,2,3,4]\n",
        "Output: [24,12,8,6]\n",
        "```\n",
        "**Note:** Please solve it without division and in O(n).\n",
        "\n",
        "**Follow up:**\n",
        "Could you solve it with constant space complexity? (The output array does not count as extra space for the purpose of space complexity analysis.)"
      ]
    },
    {
      "cell_type": "code",
      "metadata": {
        "id": "RUjHf5avG2JM",
        "colab_type": "code",
        "colab": {}
      },
      "source": [
        "class Solution:\n",
        "    def productExceptSelf(self, nums: List[int]) -> List[int]:\n",
        "        output =  []\n",
        "        length = len(nums)\n",
        "        p = 1\n",
        "        for i in range(length):\n",
        "            output.append(p)\n",
        "            p *= nums[i]\n",
        "        p = 1\n",
        "        for i in range(length-1,-1,-1):\n",
        "            output[i] = output[i] * p\n",
        "            p = p * nums[i]\n",
        "        return output"
      ],
      "execution_count": 0,
      "outputs": []
    },
    {
      "cell_type": "markdown",
      "metadata": {
        "id": "22i8lT0YHASf",
        "colab_type": "text"
      },
      "source": [
        "# 240. Search a 2D Matrix II \n",
        "Write an efficient algorithm that searches for a value in an m x n matrix. This matrix has the following properties:\n",
        "\n",
        "Integers in each row are sorted in ascending from left to right.\n",
        "Integers in each column are sorted in ascending from top to bottom.\n",
        "\n",
        "**Example**:\n",
        "\n",
        "Consider the following matrix:\n",
        "```\n",
        "[\n",
        "  [1,   4,  7, 11, 15],\n",
        "  [2,   5,  8, 12, 19],\n",
        "  [3,   6,  9, 16, 22],\n",
        "  [10, 13, 14, 17, 24],\n",
        "  [18, 21, 23, 26, 30]\n",
        "]\n",
        "```\n",
        "Given target = ```5```, return ```true```.\n",
        "\n",
        "Given target = ```20```, return ```false```."
      ]
    },
    {
      "cell_type": "code",
      "metadata": {
        "id": "4i07t_hrHAjv",
        "colab_type": "code",
        "colab": {}
      },
      "source": [
        "class Solution:\n",
        "    def searchMatrix(self, matrix, target):\n",
        "        \"\"\"\n",
        "        :type matrix: List[List[int]]\n",
        "        :type target: int\n",
        "        :rtype: bool\n",
        "        \"\"\"\n",
        "        for row in matrix:\n",
        "            if target in row:\n",
        "                return True\n",
        "        return False\n",
        "        # return any(target in row for row in matrix)"
      ],
      "execution_count": 0,
      "outputs": []
    },
    {
      "cell_type": "markdown",
      "metadata": {
        "id": "Q8UwSocUKGi_",
        "colab_type": "text"
      },
      "source": [
        "# 242. Valid Anagram \n",
        "Given two strings s and t , write a function to determine if t is an anagram of s.\n",
        "\n",
        "**Example 1:**\n",
        "```\n",
        "Input: s = \"anagram\", t = \"nagaram\"\n",
        "Output: true\n",
        "```\n",
        "**Example 2:**\n",
        "```\n",
        "Input: s = \"rat\", t = \"car\"\n",
        "Output: false\n",
        "```\n",
        "**Note:**\n",
        "You may assume the string contains only lowercase alphabets.\n",
        "\n",
        "**Follow up:**\n",
        "What if the inputs contain unicode characters? How would you adapt your solution to such case?"
      ]
    },
    {
      "cell_type": "code",
      "metadata": {
        "id": "ppTuBCY5KG8w",
        "colab_type": "code",
        "colab": {}
      },
      "source": [
        "class Solution:\n",
        "    def isAnagram(self, s: str, t: str) -> bool:  \n",
        "        '''visited = []\n",
        "        \n",
        "        if len(s) != len(t):return False\n",
        "        \n",
        "        for i in s:\n",
        "            visited.append(i)\n",
        "           \n",
        "        for i in t:\n",
        "            if i in visited:\n",
        "                visited.remove(i)\n",
        "        \n",
        "        return not visited'''\n",
        "        \n",
        "        '''dic1, dic2 = {}, {}\n",
        "        for item in s:\n",
        "            dic1[item] = dic1.get(item, 0) + 1\n",
        "        for item in t:\n",
        "            dic2[item] = dic2.get(item, 0) + 1\n",
        "        return dic1 == dic2'''\n",
        "        \n",
        "        return sorted(s) == sorted(t)"
      ],
      "execution_count": 0,
      "outputs": []
    },
    {
      "cell_type": "markdown",
      "metadata": {
        "id": "krZVv9HyFgLb",
        "colab_type": "text"
      },
      "source": [
        "# 509. Fibonacci Number \n",
        "The Fibonacci numbers, commonly denoted F(n) form a sequence, called the Fibonacci sequence, such that each number is the sum of the two preceding ones, starting from 0 and 1. That is,\n",
        "```\n",
        "F(0) = 0,   F(1) = 1\n",
        "F(N) = F(N - 1) + F(N - 2), for N > 1.\n",
        "```\n",
        "Given ```N```, calculate ```F(N)```.\n",
        "\n",
        " \n",
        "\n",
        "**Example 1:**\n",
        "```\n",
        "Input: 2\n",
        "Output: 1\n",
        "Explanation: F(2) = F(1) + F(0) = 1 + 0 = 1.\n",
        "```\n",
        "**Example 2:**\n",
        "```\n",
        "Input: 3\n",
        "Output: 2\n",
        "Explanation: F(3) = F(2) + F(1) = 1 + 1 = 2.\n",
        "```\n",
        "**Example 3:**\n",
        "```\n",
        "Input: 4\n",
        "Output: 3\n",
        "Explanation: F(4) = F(3) + F(2) = 2 + 1 = 3.\n",
        "```\n",
        "\n",
        "**Note**:\n",
        "0 ≤ N ≤ 30"
      ]
    },
    {
      "cell_type": "code",
      "metadata": {
        "id": "y7OfdAvxFgi3",
        "colab_type": "code",
        "colab": {}
      },
      "source": [
        "class Solution:\n",
        "    '''\n",
        "    def fib(self, N: int) -> int:\n",
        "        if N == 0: return 0\n",
        "        if N == 1: return 1\n",
        "        return self.fib(N-1) + self.fib(N-2)\n",
        "    '''\n",
        "    memo={}\n",
        "    def fib(self, N: int) -> int:\n",
        "        if N == 0:return 0\n",
        "        if N == 1:return 1\n",
        "        \n",
        "        if N-1 not in self.memo: self.memo[N-1] = self.fib(N-1)\n",
        "        if N-2 not in self.memo: self.memo[N-2] = self.fib(N-2)\n",
        "            \n",
        "        return self.memo[N-1]+self.memo[N-2]"
      ],
      "execution_count": 0,
      "outputs": []
    },
    {
      "cell_type": "markdown",
      "metadata": {
        "id": "b8X1keq2_KgY",
        "colab_type": "text"
      },
      "source": [
        "# 617. Merge Two Binary Trees \n",
        "Given two binary trees and imagine that when you put one of them to cover the other, some nodes of the two trees are overlapped while the others are not.\n",
        "\n",
        "You need to merge them into a new binary tree. The merge rule is that if two nodes overlap, then sum node values up as the new value of the merged node. Otherwise, the NOT null node will be used as the node of new tree.\n",
        "\n",
        "**Example 1:**\n",
        "```\n",
        "Input: \n",
        "\tTree 1                     Tree 2                  \n",
        "          1                         2                             \n",
        "         / \\                       / \\                            \n",
        "        3   2                     1   3                        \n",
        "       /                           \\   \\                      \n",
        "      5                             4   7    \n",
        "```           \n",
        "**Output:**\n",
        "```\n",
        "Merged tree:\n",
        "\t     3\n",
        "\t    / \\\n",
        "\t   4   5\n",
        "\t  / \\   \\ \n",
        "\t 5   4   7\n",
        " ```\n",
        "\n",
        "**Note**: The merging process must start from the root nodes of both trees."
      ]
    },
    {
      "cell_type": "code",
      "metadata": {
        "id": "u2yMEfDA_KuE",
        "colab_type": "code",
        "colab": {}
      },
      "source": [
        "# Definition for a binary tree node.\n",
        "# class TreeNode:\n",
        "#     def __init__(self, x):\n",
        "#         self.val = x\n",
        "#         self.left = None\n",
        "#         self.right = None\n",
        "\n",
        "class Solution:\n",
        "    def mergeTrees(self, t1: TreeNode, t2: TreeNode) -> TreeNode:\n",
        "        if not t1 and not t2: return None\n",
        "        ans = TreeNode((t1.val if t1 else 0) + (t2.val if t2 else 0))\n",
        "        ans.left = self.mergeTrees(t1 and t1.left, t2 and t2.left)\n",
        "        ans.right = self.mergeTrees(t1 and t1.right, t2 and t2.right)\n",
        "        return ans"
      ],
      "execution_count": 0,
      "outputs": []
    },
    {
      "cell_type": "markdown",
      "metadata": {
        "id": "4JqYjJMUAFtm",
        "colab_type": "text"
      },
      "source": [
        "# 852. Peak Index in a Mountain Array \n",
        "Let's call an array A a mountain if the following properties hold:\n",
        "\n",
        "A.length >= 3\n",
        "There exists some 0 < i < A.length - 1 such that A[0] < A[1] < ... A[i-1] < A[i] > A[i+1] > ... > A[A.length - 1]\n",
        "Given an array that is definitely a mountain, return any i such that A[0] < A[1] < ... A[i-1] < A[i] > A[i+1] > ... > A[A.length - 1].\n",
        "\n",
        "**Example 1:**\n",
        "```\n",
        "Input: [0,1,0]\n",
        "Output: 1\n",
        "```\n",
        "**Example 2:**\n",
        "```\n",
        "Input: [0,2,1,0]\n",
        "Output: 1\n",
        "```\n",
        "**Note:**\n",
        "\n",
        "*   3 <= A.length <= 10000\n",
        "*   0 <= A[i] <= 10^6\n",
        "*   A is a mountain, as defined above."
      ]
    },
    {
      "cell_type": "code",
      "metadata": {
        "id": "r4kdbl-BAGJt",
        "colab_type": "code",
        "colab": {}
      },
      "source": [
        "class Solution:\n",
        "    def peakIndexInMountainArray(self, A: List[int]) -> int:\n",
        "        return A.index(max(A))"
      ],
      "execution_count": 0,
      "outputs": []
    },
    {
      "cell_type": "markdown",
      "metadata": {
        "id": "ATltDhmb5EJs",
        "colab_type": "text"
      },
      "source": [
        "# 905. Sort Array By Parity \n",
        "Given an array A of non-negative integers, return an array consisting of all the even elements of A, followed by all the odd elements of A.\n",
        "\n",
        "You may return any answer array that satisfies this condition.\n",
        " \n",
        "**Example 1:**\n",
        "```\n",
        "Input: [3,1,2,4]\n",
        "Output: [2,4,3,1]\n",
        "The outputs [4,2,3,1], [2,4,1,3], and [4,2,1,3] would also be accepted.\n",
        " ```\n",
        "\n",
        "**Note:**\n",
        "```\n",
        "1 <= A.length <= 5000\n",
        "\n",
        "0 <= A[i] <= 5000\n",
        "```"
      ]
    },
    {
      "cell_type": "code",
      "metadata": {
        "id": "JQPf7BC65EVh",
        "colab_type": "code",
        "colab": {}
      },
      "source": [
        "class Solution:\n",
        "    def sortArrayByParity(self, A: List[int]) -> List[int]:\n",
        "        even = []\n",
        "        odd = []\n",
        "        \n",
        "        for i in A:\n",
        "            if i%2==0:\n",
        "                even.append(i)\n",
        "            else:\n",
        "                odd.append(i)\n",
        "                \n",
        "        answer = even + odd\n",
        "        \n",
        "        return answer\n",
        "    \n",
        "        '''\n",
        "        A.sort(key = lambda x: x % 2)\n",
        "            return A\n",
        "        '''"
      ],
      "execution_count": 0,
      "outputs": []
    },
    {
      "cell_type": "markdown",
      "metadata": {
        "id": "uXuy9w39yC3s",
        "colab_type": "text"
      },
      "source": [
        "# 938. Range Sum of BST \n",
        "Given the root node of a binary search tree, return the sum of values of all nodes with value between L and R (inclusive).\n",
        "\n",
        "The binary search tree is guaranteed to have unique values.\n",
        "\n",
        " \n",
        "\n",
        "**Example 1:**\n",
        "```\n",
        "Input: root = [10,5,15,3,7,null,18], L = 7, R = 15\n",
        "Output: 32\n",
        "```\n",
        "Example 2:\n",
        "```\n",
        "Input: root = [10,5,15,3,7,13,18,1,null,6], L = 6, R = 10\n",
        "Output: 23\n",
        " ```\n",
        "\n",
        "**Note:**\n",
        "\n",
        "The number of nodes in the tree is at most 10000.\n",
        "The final answer is guaranteed to be less than 2^31."
      ]
    },
    {
      "cell_type": "code",
      "metadata": {
        "id": "S-Y5gv2pyDE8",
        "colab_type": "code",
        "colab": {}
      },
      "source": [
        "# Definition for a binary tree node.\n",
        "# class TreeNode:\n",
        "#     def __init__(self, x):\n",
        "#         self.val = x\n",
        "#         self.left = None\n",
        "#         self.right = None\n",
        "\n",
        "class Solution:\n",
        "    def rangeSumBST(self, root: TreeNode, L: int, R: int) -> int:\n",
        "        if not root:\n",
        "            return 0\n",
        "        sum = 0\n",
        "        if L < root.val :\n",
        "            sum += self.rangeSumBST(root.left, L, R)\n",
        "        if root.val < R:\n",
        "            sum += self.rangeSumBST(root.right, L, R)\n",
        "        if L <= root.val <= R:\n",
        "            sum += root.val     \n",
        "        return sum"
      ],
      "execution_count": 0,
      "outputs": []
    },
    {
      "cell_type": "markdown",
      "metadata": {
        "id": "cKR3DkqF5ZgO",
        "colab_type": "text"
      },
      "source": [
        "# 977. Squares of a Sorted Array \n",
        "Given an array of integers A sorted in non-decreasing order, return an array of the squares of each number, also in sorted non-decreasing order.\n",
        "\n",
        " \n",
        "\n",
        "**Example 1:**\n",
        "```\n",
        "Input: [-4,-1,0,3,10]\n",
        "Output: [0,1,9,16,100]\n",
        "Example 2:\n",
        "\n",
        "Input: [-7,-3,2,3,11]\n",
        "Output: [4,9,9,49,121]\n",
        " ```\n",
        "\n",
        "**Note:**\n",
        "```\n",
        "1 <= A.length <= 10000\n",
        "-10000 <= A[i] <= 10000\n",
        "A is sorted in non-decreasing order.\n",
        "```"
      ]
    },
    {
      "cell_type": "code",
      "metadata": {
        "id": "3I74bJv-5Zub",
        "colab_type": "code",
        "colab": {}
      },
      "source": [
        "class Solution:\n",
        "    def sortedSquares(self, A: List[int]) -> List[int]:\n",
        "        output = []\n",
        "        \n",
        "        for i in A:\n",
        "            output.append(i**2)\n",
        "            \n",
        "        return sorted(output)"
      ],
      "execution_count": 0,
      "outputs": []
    }
  ]
}