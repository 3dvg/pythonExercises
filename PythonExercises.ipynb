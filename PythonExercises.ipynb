{
  "nbformat": 4,
  "nbformat_minor": 0,
  "metadata": {
    "colab": {
      "name": "PythonExercises.ipynb",
      "provenance": [],
      "include_colab_link": true
    },
    "kernelspec": {
      "name": "python3",
      "display_name": "Python 3"
    }
  },
  "cells": [
    {
      "cell_type": "markdown",
      "metadata": {
        "id": "view-in-github",
        "colab_type": "text"
      },
      "source": [
        "<a href=\"https://colab.research.google.com/github/3dvg/pythonExercises/blob/master/PythonExercises.ipynb\" target=\"_parent\"><img src=\"https://colab.research.google.com/assets/colab-badge.svg\" alt=\"Open In Colab\"/></a>"
      ]
    },
    {
      "cell_type": "markdown",
      "metadata": {
        "id": "Rz9mbDj9Il4P",
        "colab_type": "text"
      },
      "source": [
        "**Check if a decimal integer is a palindrome**\n",
        "\n",
        "We iteratively compare the most and least significant digits, and then remove them from the imput\n",
        "\n",
        "Example: 151751 --> 1 == 1 --> 5175 --> 5 == 5 --> 17 --> 1 != 7 --> False\n"
      ]
    },
    {
      "cell_type": "code",
      "metadata": {
        "id": "jbmVdErKIXOz",
        "colab_type": "code",
        "colab": {
          "base_uri": "https://localhost:8080/",
          "height": 34
        },
        "outputId": "4c6d67ef-760a-48b1-ca23-7741d3090429"
      },
      "source": [
        "import math\n",
        "\n",
        "def is_palindrome_number(x):\n",
        "  if x <=0 : \n",
        "    return x == 0\n",
        "  \n",
        "  num_digits = math.floor(math.log10(x))+1 #4\n",
        "  msd_mask = 10**(num_digits-1) #1000\n",
        "  for i in range(num_digits // 2):\n",
        "    if x // msd_mask != x % 10: # 1 != 1 # 2 != 2\n",
        "      return False \n",
        "    x %= msd_mask # 221 # 2\n",
        "    x //= 10 # 22 # 0\n",
        "    msd_mask //= 100 # 10 # 0\n",
        "  return True \n",
        "\n",
        "is_palindrome_number(1221)"
      ],
      "execution_count": 19,
      "outputs": [
        {
          "output_type": "execute_result",
          "data": {
            "text/plain": [
              "True"
            ]
          },
          "metadata": {
            "tags": []
          },
          "execution_count": 19
        }
      ]
    },
    {
      "cell_type": "code",
      "metadata": {
        "id": "-vGrdDH4JKxI",
        "colab_type": "code",
        "colab": {}
      },
      "source": [
        ""
      ],
      "execution_count": 0,
      "outputs": []
    }
  ]
}